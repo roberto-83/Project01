{
  "nbformat": 4,
  "nbformat_minor": 0,
  "metadata": {
    "colab": {
      "provenance": [],
      "mount_file_id": "19BSZlTs7L81Y6m9pnEK62for5Yr-dxNS",
      "authorship_tag": "ABX9TyOad8+Ecu+DpcrUZgAhRoQz",
      "include_colab_link": true
    },
    "kernelspec": {
      "name": "python3",
      "display_name": "Python 3"
    },
    "language_info": {
      "name": "python"
    }
  },
  "cells": [
    {
      "cell_type": "markdown",
      "metadata": {
        "id": "view-in-github",
        "colab_type": "text"
      },
      "source": [
        "<a href=\"https://colab.research.google.com/github/roberto-83/Project01/blob/main/API_YFinance.ipynb\" target=\"_parent\"><img src=\"https://colab.research.google.com/assets/colab-badge.svg\" alt=\"Open In Colab\"/></a>"
      ]
    },
    {
      "cell_type": "code",
      "source": [
        "!pip install selenium"
      ],
      "metadata": {
        "id": "XwoHiqja-mmF"
      },
      "execution_count": null,
      "outputs": []
    },
    {
      "cell_type": "code",
      "source": [
        "!python /content/drive/MyDrive/Programmazione/Progetto02/script01.py"
      ],
      "metadata": {
        "id": "O2vkoZSTazqJ"
      },
      "execution_count": null,
      "outputs": []
    }
  ]
}